{
 "cells": [
  {
   "cell_type": "code",
   "execution_count": 50,
   "id": "b203789a-188a-4d9a-9f1b-1f528c29db50",
   "metadata": {},
   "outputs": [],
   "source": [
    "import sklearn.datasets\n",
    "import pandas as pd\n",
    "\n",
    "diabetes = sklearn.datasets.load_diabetes()"
   ]
  },
  {
   "cell_type": "code",
   "execution_count": 51,
   "id": "c30a6acf-7c96-486b-9c20-101acb5aa810",
   "metadata": {},
   "outputs": [
    {
     "name": "stdout",
     "output_type": "stream",
     "text": [
      ".. _diabetes_dataset:\n",
      "\n",
      "Diabetes dataset\n",
      "----------------\n",
      "\n",
      "Ten baseline variables, age, sex, body mass index, average blood\n",
      "pressure, and six blood serum measurements were obtained for each of n =\n",
      "442 diabetes patients, as well as the response of interest, a\n",
      "quantitative measure of disease progression one year after baseline.\n",
      "\n",
      "**Data Set Characteristics:**\n",
      "\n",
      "  :Number of Instances: 442\n",
      "\n",
      "  :Number of Attributes: First 10 columns are numeric predictive values\n",
      "\n",
      "  :Target: Column 11 is a quantitative measure of disease progression one year after baseline\n",
      "\n",
      "  :Attribute Information:\n",
      "      - age     age in years\n",
      "      - sex\n",
      "      - bmi     body mass index\n",
      "      - bp      average blood pressure\n",
      "      - s1      tc, total serum cholesterol\n",
      "      - s2      ldl, low-density lipoproteins\n",
      "      - s3      hdl, high-density lipoproteins\n",
      "      - s4      tch, total cholesterol / HDL\n",
      "      - s5      ltg, possibly log of serum triglycerides level\n",
      "      - s6      glu, blood sugar level\n",
      "\n",
      "Note: Each of these 10 feature variables have been mean centered and scaled by the standard deviation times `n_samples` (i.e. the sum of squares of each column totals 1).\n",
      "\n",
      "Source URL:\n",
      "https://www4.stat.ncsu.edu/~boos/var.select/diabetes.html\n",
      "\n",
      "For more information see:\n",
      "Bradley Efron, Trevor Hastie, Iain Johnstone and Robert Tibshirani (2004) \"Least Angle Regression,\" Annals of Statistics (with discussion), 407-499.\n",
      "(https://web.stanford.edu/~hastie/Papers/LARS/LeastAngle_2002.pdf)\n"
     ]
    }
   ],
   "source": [
    "print(diabetes.DESCR)"
   ]
  },
  {
   "cell_type": "code",
   "execution_count": 52,
   "id": "9ab09d4a-fa06-470f-b2b9-0163324ac580",
   "metadata": {},
   "outputs": [],
   "source": [
    "x = diabetes.data\n",
    "y = diabetes.target"
   ]
  },
  {
   "cell_type": "code",
   "execution_count": 53,
   "id": "4f1e2e2c-4dbe-4fa9-936a-c6c8f553b26c",
   "metadata": {},
   "outputs": [
    {
     "data": {
      "text/plain": [
       "(442, 10)"
      ]
     },
     "execution_count": 53,
     "metadata": {},
     "output_type": "execute_result"
    }
   ],
   "source": [
    "#Look at x: output one of records to see that it has the expected number of features\n",
    "x.shape"
   ]
  },
  {
   "cell_type": "code",
   "execution_count": 54,
   "id": "de30577c-3e4b-4518-9a76-4b97ecf6c2fb",
   "metadata": {},
   "outputs": [],
   "source": [
    "#Make a scatter plot using just one of the features in x vs the target variable y\n",
    "age = x[:,0] #getting the first feature's arrays"
   ]
  },
  {
   "cell_type": "code",
   "execution_count": 55,
   "id": "d633307b-dde6-49d3-960a-d67c913e9fdb",
   "metadata": {},
   "outputs": [
    {
     "data": {
      "text/plain": [
       "<AxesSubplot:xlabel='Age', ylabel='Target'>"
      ]
     },
     "execution_count": 55,
     "metadata": {},
     "output_type": "execute_result"
    },
    {
     "data": {
      "image/png": "[encoded data removed]",
      "text/plain": [
       "<Figure size 432x288 with 1 Axes>"
      ]
     },
     "metadata": {
      "needs_background": "light"
     },
     "output_type": "display_data"
    }
   ],
   "source": [
    "diabetesDict = {\n",
    "    'Age' : age,\n",
    "    'Target' : y\n",
    "} #create dictionary with age and target data\n",
    "\n",
    "df1 = pd.DataFrame(diabetesDict) #create data frame for scatter plot\n",
    "df1.plot.scatter(x = 'Age', y = 'Target') #create scatter plot"
   ]
  },
  {
   "cell_type": "code",
   "execution_count": 56,
   "id": "3d2507ff-e363-4d8f-8bc4-4767bca95f5b",
   "metadata": {},
   "outputs": [
    {
     "data": {
      "text/plain": [
       "<AxesSubplot:xlabel='Age', ylabel='Target'>"
      ]
     },
     "execution_count": 56,
     "metadata": {},
     "output_type": "execute_result"
    },
    {
     "data": {
      "image/png": "[encoded data removed]",
      "text/plain": [
       "<Figure size 432x288 with 1 Axes>"
      ]
     },
     "metadata": {
      "needs_background": "light"
     },
     "output_type": "display_data"
    }
   ],
   "source": [
    "#Second scatter plot with True/False target category\n",
    "y = (diabetes.target > 150).astype(int)\n",
    "\n",
    "diabetesDict = {\n",
    "    'Age' : age,\n",
    "    'Target' : y\n",
    "} \n",
    "\n",
    "df2 = pd.DataFrame(diabetesDict)\n",
    "df2.plot.scatter(x = 'Age', y = 'Target')"
   ]
  },
  {
   "cell_type": "code",
   "execution_count": 57,
   "id": "93fe6e35-2788-45b6-afb0-46e5e2aaeeed",
   "metadata": {},
   "outputs": [],
   "source": [
    "#More plots with other features\n",
    "#adding other features to dictionary\n",
    "sex = x[:,1]\n",
    "bmi = x[:,2]\n",
    "tc = x[:,3]\n",
    "ldl = x[:,4]\n",
    "hdl = x[:,5]\n",
    "tch = x[:,6]\n",
    "ltg = x[:,7]\n",
    "glu = x[:,8]\n",
    "\n",
    "diabetesDict = {\n",
    "    'Age' : age,\n",
    "    'Sex' : sex,\n",
    "    'BMI' : bmi,\n",
    "    'TC' : tc,\n",
    "    'LDL' : ldl,\n",
    "    'HDL' : hdl,\n",
    "    'TCH' : tch,\n",
    "    'LTG' : ltg,\n",
    "    'GLU' : glu,\n",
    "    'Target' : y\n",
    "} "
   ]
  },
  {
   "cell_type": "code",
   "execution_count": 58,
   "id": "e6a86a50-52fe-4efc-b967-d4309693484d",
   "metadata": {},
   "outputs": [
    {
     "data": {
      "text/plain": [
       "<AxesSubplot:xlabel='BMI', ylabel='Target'>"
      ]
     },
     "execution_count": 58,
     "metadata": {},
     "output_type": "execute_result"
    },
    {
     "data": {
      "image/png": "[encoded data removed]",
      "text/plain": [
       "<Figure size 432x288 with 1 Axes>"
      ]
     },
     "metadata": {
      "needs_background": "light"
     },
     "output_type": "display_data"
    }
   ],
   "source": [
    "df3 = pd.DataFrame(diabetesDict)\n",
    "df3.plot.scatter(x = 'BMI', y = 'Target')"
   ]
  },
  {
   "cell_type": "code",
   "execution_count": 59,
   "id": "7765dc5e-d70a-4fd9-8296-b2025dfeaaeb",
   "metadata": {},
   "outputs": [
    {
     "data": {
      "text/plain": [
       "<AxesSubplot:xlabel='TC', ylabel='Target'>"
      ]
     },
     "execution_count": 59,
     "metadata": {},
     "output_type": "execute_result"
    },
    {
     "data": {
      "image/png": "[encoded data removed]",
      "text/plain": [
       "<Figure size 432x288 with 1 Axes>"
      ]
     },
     "metadata": {
      "needs_background": "light"
     },
     "output_type": "display_data"
    }
   ],
   "source": [
    "df3.plot.scatter(x = 'TC', y = 'Target')"
   ]
  },
  {
   "cell_type": "code",
   "execution_count": 60,
   "id": "42a671d9-ad48-48ee-b943-a3b03a031cf7",
   "metadata": {},
   "outputs": [
    {
     "data": {
      "text/plain": [
       "<AxesSubplot:xlabel='LDL', ylabel='Target'>"
      ]
     },
     "execution_count": 60,
     "metadata": {},
     "output_type": "execute_result"
    },
    {
     "data": {
      "image/png": "[encoded data removed]",
      "text/plain": [
       "<Figure size 432x288 with 1 Axes>"
      ]
     },
     "metadata": {
      "needs_background": "light"
     },
     "output_type": "display_data"
    }
   ],
   "source": [
    "df3.plot.scatter(x = 'LDL', y = 'Target')"
   ]
  },
  {
   "cell_type": "code",
   "execution_count": 61,
   "id": "e60bc423-896d-4a55-a294-c5756f2bdc53",
   "metadata": {},
   "outputs": [
    {
     "data": {
      "text/plain": [
       "<AxesSubplot:xlabel='HDL', ylabel='Target'>"
      ]
     },
     "execution_count": 61,
     "metadata": {},
     "output_type": "execute_result"
    },
    {
     "data": {
      "image/png": "[encoded data removed]",
      "text/plain": [
       "<Figure size 432x288 with 1 Axes>"
      ]
     },
     "metadata": {
      "needs_background": "light"
     },
     "output_type": "display_data"
    }
   ],
   "source": [
    "df3.plot.scatter(x = 'HDL', y = 'Target')"
   ]
  },
  {
   "cell_type": "code",
   "execution_count": 62,
   "id": "bb5eb214-138c-4e6a-88a2-3be339c54d5b",
   "metadata": {},
   "outputs": [
    {
     "data": {
      "text/plain": [
       "<AxesSubplot:xlabel='TCH', ylabel='Target'>"
      ]
     },
     "execution_count": 62,
     "metadata": {},
     "output_type": "execute_result"
    },
    {
     "data": {
      "image/png": "[encoded data removed]",
      "text/plain": [
       "<Figure size 432x288 with 1 Axes>"
      ]
     },
     "metadata": {
      "needs_background": "light"
     },
     "output_type": "display_data"
    }
   ],
   "source": [
    "df3.plot.scatter(x = 'TCH', y = 'Target')"
   ]
  },
  {
   "cell_type": "code",
   "execution_count": 63,
   "id": "db704a3a-493a-43fc-94a6-f67c2adfd83d",
   "metadata": {},
   "outputs": [
    {
     "data": {
      "text/plain": [
       "<AxesSubplot:xlabel='LTG', ylabel='Target'>"
      ]
     },
     "execution_count": 63,
     "metadata": {},
     "output_type": "execute_result"
    },
    {
     "data": {
      "image/png": "[encoded data removed]",
      "text/plain": [
       "<Figure size 432x288 with 1 Axes>"
      ]
     },
     "metadata": {
      "needs_background": "light"
     },
     "output_type": "display_data"
    }
   ],
   "source": [
    "df3.plot.scatter(x = 'LTG', y = 'Target')"
   ]
  },
  {
   "cell_type": "code",
   "execution_count": 64,
   "id": "1afd797f-511a-4b47-8b99-b09e0ef1b1d1",
   "metadata": {
    "tags": []
   },
   "outputs": [
    {
     "data": {
      "text/plain": [
       "<AxesSubplot:xlabel='GLU', ylabel='Target'>"
      ]
     },
     "execution_count": 64,
     "metadata": {},
     "output_type": "execute_result"
    },
    {
     "data": {
      "image/png": "[encoded data removed]",
      "text/plain": [
       "<Figure size 432x288 with 1 Axes>"
      ]
     },
     "metadata": {
      "needs_background": "light"
     },
     "output_type": "display_data"
    }
   ],
   "source": [
    "#GLU has GOOD RELATIONSHIP with y for classification\n",
    "df3.plot.scatter(x = 'GLU', y = 'Target')"
   ]
  },
  {
   "cell_type": "code",
   "execution_count": 65,
   "id": "86bd6ead-0b5e-49d8-b301-6fa095ebba46",
   "metadata": {},
   "outputs": [],
   "source": [
    "#Do classification with logistic regression\n",
    "import numpy as np\n",
    "import matplotlib.pyplot as plt\n",
    "import sklearn.linear_model\n",
    "import sklearn.model_selection\n",
    "\n",
    "#change data into a 2-D array format\n",
    "x = df3[['GLU']]\n",
    "y = df3['Target']"
   ]
  },
  {
   "cell_type": "code",
   "execution_count": 66,
   "id": "7c003210-c551-4614-8415-762b2b67b19c",
   "metadata": {},
   "outputs": [],
   "source": [
    "model = sklearn.linear_model.LogisticRegression() #Make model "
   ]
  },
  {
   "cell_type": "code",
   "execution_count": 67,
   "id": "3d30cdd2-0512-48cf-acab-43d90ee1dcfa",
   "metadata": {},
   "outputs": [
    {
     "data": {
      "text/plain": [
       "LogisticRegression()"
      ]
     },
     "execution_count": 67,
     "metadata": {},
     "output_type": "execute_result"
    }
   ],
   "source": [
    "model.fit(x,y) #train model"
   ]
  },
  {
   "cell_type": "code",
   "execution_count": 68,
   "id": "2d65752d-dc1f-45a1-b3d9-5720d7a990ad",
   "metadata": {
    "tags": []
   },
   "outputs": [
    {
     "name": "stdout",
     "output_type": "stream",
     "text": [
      "[[4.15818976]]\n"
     ]
    }
   ],
   "source": [
    "#Print the coefficients of the model\n",
    "\n",
    "print(model.coef_)"
   ]
  },
  {
   "cell_type": "code",
   "execution_count": 69,
   "id": "da01cdae-8a2a-41a3-bd18-1b6fd1662334",
   "metadata": {},
   "outputs": [],
   "source": [
    "#Generate a new array of x_new and y_new\n",
    "x_new = np.linspace(-2,2,10000)\n",
    "y_new = model.predict(x_test)"
   ]
  },
  {
   "cell_type": "code",
   "execution_count": 72,
   "id": "6b51e1b5-5f4c-4709-b3f6-c3852447e082",
   "metadata": {},
   "outputs": [
    {
     "data": {
      "image/png": "[encoded data removed]",
      "text/plain": [
       "<Figure size 432x288 with 1 Axes>"
      ]
     },
     "metadata": {
      "needs_background": "light"
     },
     "output_type": "display_data"
    }
   ],
   "source": [
    "#Make line plot of y_vew vs x_new\n",
    "df3.plot.scatter(x='GLU', y='Target',)\n",
    "x_new = x_new.reshape(-1,1)\n",
    "\n",
    "y_model = 1 / (1 + np.exp(-(model.intercept_ + model.coef_ * x_new)))\n",
    "\n",
    "y_pred = model.predict(x_new)\n",
    "\n",
    "plt.plot(x_new, y_pred)\n",
    "plt.plot(x_new, y_model)\n",
    "\n",
    "\n",
    "plt.show()"
   ]
  },
  {
   "cell_type": "code",
   "execution_count": 78,
   "id": "40c725ed-1302-4745-94a2-285b2550f457",
   "metadata": {},
   "outputs": [],
   "source": [
    "#Classification with k-nearest neigbors\n",
    "import sklearn.neighbors"
   ]
  },
  {
   "cell_type": "code",
   "execution_count": 79,
   "id": "d2b1de54-a5c4-4bdb-908b-56a9ceffdf2e",
   "metadata": {},
   "outputs": [],
   "source": [
    "#change data into a 2-D array format\n",
    "x = df3[['GLU']]\n",
    "y = df3['Target']"
   ]
  },
  {
   "cell_type": "code",
   "execution_count": 80,
   "id": "794ad8e9-132f-4d09-836e-37a748169dfc",
   "metadata": {},
   "outputs": [],
   "source": [
    "model = sklearn.neighbors.KNeighborsClassifier(n_neighbors=100)"
   ]
  },
  {
   "cell_type": "code",
   "execution_count": 81,
   "id": "c3d68744-6290-4b18-8722-51376302569c",
   "metadata": {},
   "outputs": [
    {
     "data": {
      "text/plain": [
       "KNeighborsClassifier(n_neighbors=100)"
      ]
     },
     "execution_count": 81,
     "metadata": {},
     "output_type": "execute_result"
    }
   ],
   "source": [
    "# Train the model\n",
    "model.fit(x,y)"
   ]
  },
  {
   "cell_type": "code",
   "execution_count": 82,
   "id": "ac025129-866e-4461-9c60-e5e7ce51987d",
   "metadata": {},
   "outputs": [
    {
     "data": {
      "image/png": "[encoded data removed]",
      "text/plain": [
       "<Figure size 432x288 with 1 Axes>"
      ]
     },
     "metadata": {
      "needs_background": "light"
     },
     "output_type": "display_data"
    }
   ],
   "source": [
    "# Visualize what the predictions are for this model\n",
    "\n",
    "df3.plot.scatter(x='GLU', y='Target')\n",
    "\n",
    "x_new = np.linspace(-0.05,0.05,100000)\n",
    "x_new = x_new.reshape(-1,1)\n",
    "y_pred = model.predict(x_new)\n",
    "plt.plot(x_new, y_pred)\n",
    "\n",
    "plt.show()"
   ]
  },
  {
   "cell_type": "code",
   "execution_count": 83,
   "id": "b4097270-7021-4f0f-8325-7d471dc01863",
   "metadata": {},
   "outputs": [
    {
     "data": {
      "text/plain": [
       "array([[186,  56],\n",
       "       [ 60, 140]])"
      ]
     },
     "execution_count": 83,
     "metadata": {},
     "output_type": "execute_result"
    }
   ],
   "source": [
    "from sklearn.metrics import confusion_matrix\n",
    "confusion_matrix(y, model.predict(x))"
   ]
  },
  {
   "cell_type": "code",
   "execution_count": 84,
   "id": "f88e946f-aaba-4747-a463-84b59d3c8192",
   "metadata": {},
   "outputs": [
    {
     "name": "stdout",
     "output_type": "stream",
     "text": [
      "              precision    recall  f1-score   support\n",
      "\n",
      "           0       0.76      0.77      0.76       242\n",
      "           1       0.71      0.70      0.71       200\n",
      "\n",
      "    accuracy                           0.74       442\n",
      "   macro avg       0.74      0.73      0.73       442\n",
      "weighted avg       0.74      0.74      0.74       442\n",
      "\n"
     ]
    }
   ],
   "source": [
    "from sklearn.metrics import classification_report\n",
    "print(classification_report(y, model.predict(x)))"
   ]
  },
  {
   "cell_type": "code",
   "execution_count": null,
   "id": "0f17cd8e-dd43-40e0-956a-c77f122645b5",
   "metadata": {},
   "outputs": [],
   "source": []
  }
 ],
 "metadata": {
  "kernelspec": {
   "display_name": "Python 3 (ipykernel)",
   "language": "python",
   "name": "python3"
  },
  "language_info": {
   "codemirror_mode": {
    "name": "ipython",
    "version": 3
   },
   "file_extension": ".py",
   "mimetype": "text/x-python",
   "name": "python",
   "nbconvert_exporter": "python",
   "pygments_lexer": "ipython3",
   "version": "3.9.6"
  }
 },
 "nbformat": 4,
 "nbformat_minor": 5
}
