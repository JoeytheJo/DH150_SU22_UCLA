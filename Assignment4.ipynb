{
 "cells": [
  {
   "cell_type": "code",
   "execution_count": 38,
   "id": "d97bb592-b695-421c-aad5-39cf9d012a48",
   "metadata": {},
   "outputs": [],
   "source": [
    "import sklearn.datasets\n",
    "import sklearn.model_selection\n",
    "import sklearn.linear_model\n",
    "import sklearn.neighbors\n",
    "import numpy as np\n",
    "import matplotlib.pyplot as plt\n",
    "import sklearn.tree\n",
    "\n",
    "from sklearn.ensemble import RandomForestRegressor\n",
    "from sklearn.metrics import mean_squared_error\n",
    "\n",
    "diabetes = sklearn.datasets.load_diabetes()"
   ]
  },
  {
   "cell_type": "code",
   "execution_count": 39,
   "id": "1dcb047d-9ca8-4f3b-b57a-43ddef4a672b",
   "metadata": {},
   "outputs": [
    {
     "name": "stdout",
     "output_type": "stream",
     "text": [
      ".. _diabetes_dataset:\n",
      "\n",
      "Diabetes dataset\n",
      "----------------\n",
      "\n",
      "Ten baseline variables, age, sex, body mass index, average blood\n",
      "pressure, and six blood serum measurements were obtained for each of n =\n",
      "442 diabetes patients, as well as the response of interest, a\n",
      "quantitative measure of disease progression one year after baseline.\n",
      "\n",
      "**Data Set Characteristics:**\n",
      "\n",
      "  :Number of Instances: 442\n",
      "\n",
      "  :Number of Attributes: First 10 columns are numeric predictive values\n",
      "\n",
      "  :Target: Column 11 is a quantitative measure of disease progression one year after baseline\n",
      "\n",
      "  :Attribute Information:\n",
      "      - age     age in years\n",
      "      - sex\n",
      "      - bmi     body mass index\n",
      "      - bp      average blood pressure\n",
      "      - s1      tc, total serum cholesterol\n",
      "      - s2      ldl, low-density lipoproteins\n",
      "      - s3      hdl, high-density lipoproteins\n",
      "      - s4      tch, total cholesterol / HDL\n",
      "      - s5      ltg, possibly log of serum triglycerides level\n",
      "      - s6      glu, blood sugar level\n",
      "\n",
      "Note: Each of these 10 feature variables have been mean centered and scaled by the standard deviation times `n_samples` (i.e. the sum of squares of each column totals 1).\n",
      "\n",
      "Source URL:\n",
      "https://www4.stat.ncsu.edu/~boos/var.select/diabetes.html\n",
      "\n",
      "For more information see:\n",
      "Bradley Efron, Trevor Hastie, Iain Johnstone and Robert Tibshirani (2004) \"Least Angle Regression,\" Annals of Statistics (with discussion), 407-499.\n",
      "(https://web.stanford.edu/~hastie/Papers/LARS/LeastAngle_2002.pdf)\n"
     ]
    }
   ],
   "source": [
    "print(diabetes.DESCR)"
   ]
  },
  {
   "cell_type": "code",
   "execution_count": 40,
   "id": "69c08e4a-0a8b-422e-b6b9-95a0e57cba53",
   "metadata": {},
   "outputs": [],
   "source": [
    "x = diabetes.data\n",
    "y = diabetes.target"
   ]
  },
  {
   "cell_type": "code",
   "execution_count": 41,
   "id": "2dc9277c-d6e4-4656-bc0b-ec25396d1d14",
   "metadata": {},
   "outputs": [
    {
     "name": "stdout",
     "output_type": "stream",
     "text": [
      "MSE_linreg =  2900.1732878832318\n"
     ]
    }
   ],
   "source": [
    "#Linear Regression\n",
    "model = sklearn.linear_model.LinearRegression()\n",
    "\n",
    "x_train, x_test, y_train, y_test = sklearn.model_selection.train_test_split(\n",
    "    x, y, test_size=0.2, random_state=42)\n",
    "\n",
    "model.fit(x_train,\n",
    "          y_train)\n",
    "y_pred = model.predict(x_test)\n",
    "\n",
    "x_model_vals = np.linspace(0, 10, 50).reshape(-1,10)\n",
    "y_model_vals = model.predict(x_model_vals)\n",
    "\n",
    "print('MSE_linreg = ', mean_squared_error(y_test, y_pred))"
   ]
  },
  {
   "cell_type": "code",
   "execution_count": 42,
   "id": "652e8d72-3ba4-4a95-847a-ac49c1349642",
   "metadata": {},
   "outputs": [],
   "source": [
    "#Cross-validation to select hyperparameters for n_neighbors for k-nearest neighbors \n",
    "from sklearn.model_selection import cross_val_score"
   ]
  },
  {
   "cell_type": "code",
   "execution_count": 43,
   "id": "61ebd37d-d040-41b6-9549-e3b260e668ef",
   "metadata": {},
   "outputs": [
    {
     "data": {
      "text/plain": [
       "array([-4250.91236307, -4645.72143975, -4536.07668232, -4767.94920635,\n",
       "       -3825.44603175])"
      ]
     },
     "execution_count": 43,
     "metadata": {},
     "output_type": "execute_result"
    }
   ],
   "source": [
    "model1 = sklearn.neighbors.KNeighborsRegressor(n_neighbors=3)\n",
    "\n",
    "x_train, x_test, y_train, y_test = sklearn.model_selection.train_test_split(\n",
    "    x, y, test_size=0.2, random_state=42)\n",
    "\n",
    "loss = cross_val_score(model1,\n",
    "                       x_train,\n",
    "                       y_train, \n",
    "                       cv=5, \n",
    "                       scoring='neg_mean_squared_error')\n",
    "loss"
   ]
  },
  {
   "cell_type": "code",
   "execution_count": 44,
   "id": "3384e4f4-f404-4a98-b1dd-8221e813558c",
   "metadata": {},
   "outputs": [
    {
     "data": {
      "text/plain": [
       "66.3218962404476"
      ]
     },
     "execution_count": 44,
     "metadata": {},
     "output_type": "execute_result"
    }
   ],
   "source": [
    "np.mean(np.sqrt(-loss))"
   ]
  },
  {
   "cell_type": "code",
   "execution_count": 45,
   "id": "d241fc07-f709-4b3d-b469-d40521e4d25b",
   "metadata": {},
   "outputs": [
    {
     "data": {
      "image/png": "[encoded data removed]",
      "text/plain": [
       "<Figure size 432x288 with 1 Axes>"
      ]
     },
     "metadata": {
      "needs_background": "light"
     },
     "output_type": "display_data"
    }
   ],
   "source": [
    "x_train, x_test, y_train, y_test = sklearn.model_selection.train_test_split(\n",
    "        x, y, test_size=0.2, random_state=42)\n",
    "\n",
    "k_range = range(1, 20)\n",
    "k_scores = []\n",
    "for k in k_range:\n",
    "    knn = sklearn.neighbors.KNeighborsRegressor(n_neighbors=k)\n",
    "    loss = cross_val_score(knn,\n",
    "                           x_train,\n",
    "                           y_train, \n",
    "                           cv=5, \n",
    "                           scoring='neg_mean_squared_error')\n",
    "    k_scores.append(np.mean(np.sqrt(-loss)))\n",
    "\n",
    "plt.scatter(k_range, k_scores)\n",
    "plt.xlabel('Value of K for KNN')\n",
    "plt.ylabel('Cross-Validated MSE')\n",
    "plt.show()"
   ]
  },
  {
   "cell_type": "code",
   "execution_count": 46,
   "id": "64a09443-9934-419f-89b4-fa026bf2bb25",
   "metadata": {},
   "outputs": [
    {
     "name": "stdout",
     "output_type": "stream",
     "text": [
      "MSE_knn =  3003.3901481279886\n"
     ]
    }
   ],
   "source": [
    "def knntest(n=1):\n",
    "    model1 = sklearn.neighbors.KNeighborsRegressor(n_neighbors=n)\n",
    "\n",
    "    x_train, x_test, y_train, y_test = sklearn.model_selection.train_test_split(\n",
    "        x, y, test_size=0.2, random_state=42)\n",
    "\n",
    "    model1.fit(x_train,\n",
    "              y_train)\n",
    "\n",
    "    y_pred1 = model1.predict(x_test)\n",
    "\n",
    "    print('MSE_knn = ', mean_squared_error(y_test, y_pred1))\n",
    "\n",
    "knntest(n=17)"
   ]
  },
  {
   "cell_type": "code",
   "execution_count": 47,
   "id": "46141653-b1c6-453a-b0be-ddaa0a80ae9a",
   "metadata": {},
   "outputs": [
    {
     "data": {
      "text/plain": [
       "array([-3233.45656687, -4598.26756449, -3369.71968074, -4336.12237338,\n",
       "       -3334.67329867])"
      ]
     },
     "execution_count": 47,
     "metadata": {},
     "output_type": "execute_result"
    }
   ],
   "source": [
    "#CROSS VALIDATION TO FIND max_depth FOR DECISION TREES\n",
    "model2 = sklearn.tree.DecisionTreeRegressor(max_depth=2)\n",
    "\n",
    "x_train, x_test, y_train, y_test = sklearn.model_selection.train_test_split(\n",
    "    x, y, test_size=0.2, random_state=42)\n",
    "\n",
    "loss = cross_val_score(model2,\n",
    "                       x_train,\n",
    "                       y_train, \n",
    "                       cv=5, \n",
    "                       scoring='neg_mean_squared_error')\n",
    "loss"
   ]
  },
  {
   "cell_type": "code",
   "execution_count": 48,
   "id": "30878e6f-af71-4289-b330-5a01dc26b5a6",
   "metadata": {},
   "outputs": [
    {
     "data": {
      "text/plain": [
       "61.26383483081285"
      ]
     },
     "execution_count": 48,
     "metadata": {},
     "output_type": "execute_result"
    }
   ],
   "source": [
    "np.mean(np.sqrt(-loss))"
   ]
  },
  {
   "cell_type": "code",
   "execution_count": 49,
   "id": "62162934-728a-47ef-a4b4-0b3186ef3e29",
   "metadata": {},
   "outputs": [
    {
     "data": {
      "image/png": "[encoded data removed]",
      "text/plain": [
       "<Figure size 432x288 with 1 Axes>"
      ]
     },
     "metadata": {
      "needs_background": "light"
     },
     "output_type": "display_data"
    }
   ],
   "source": [
    "x_train, x_test, y_train, y_test = sklearn.model_selection.train_test_split(\n",
    "        x, y, test_size=0.2, random_state=42)\n",
    "\n",
    "max_range = range(1, 50)\n",
    "max_depth_vals = []\n",
    "for m in max_range:\n",
    "    dt = sklearn.tree.DecisionTreeRegressor(max_depth=m)\n",
    "    loss = cross_val_score(dt,\n",
    "                           x_train,\n",
    "                           y_train, \n",
    "                           cv=5, \n",
    "                           scoring='neg_mean_squared_error')\n",
    "    max_depth_vals.append(np.sqrt(-loss).mean())\n",
    "\n",
    "plt.scatter(max_range, max_depth_vals)\n",
    "plt.xlabel('Value of Max Depth for DT')\n",
    "plt.ylabel('Cross-Validated MSE')\n",
    "plt.show()"
   ]
  },
  {
   "cell_type": "code",
   "execution_count": 50,
   "id": "722ec911-04f9-48cd-8baf-d6337fa46f93",
   "metadata": {},
   "outputs": [],
   "source": [
    "def dtMax(n=1):\n",
    "    model2 = sklearn.tree.DecisionTreeRegressor(max_depth=n)\n",
    "\n",
    "    x_train, x_test, y_train, y_test = sklearn.model_selection.train_test_split(\n",
    "        x, y, test_size=0.2, random_state=42)\n",
    "    \n",
    "    model2.fit(x_train,\n",
    "          y_train)\n",
    "    y_pred2 = model2.predict(x_test)\n",
    "    \n",
    "    print('MSE_depth',n,' = ', mean_squared_error(y_test, y_pred2))\n",
    "    \n",
    "    #TREE VISUALIZATION FOR DECISION TREE\n",
    "    text_representation = sklearn.tree.export_text(model2)\n",
    "    print(text_representation)"
   ]
  },
  {
   "cell_type": "code",
   "execution_count": 51,
   "id": "5332fee1-0466-4e13-8da5-743d733c3eda",
   "metadata": {},
   "outputs": [
    {
     "name": "stdout",
     "output_type": "stream",
     "text": [
      "MSE_depth 2  =  3866.038156768628\n",
      "|--- feature_2 <= 0.01\n",
      "|   |--- feature_8 <= 0.01\n",
      "|   |   |--- value: [100.56]\n",
      "|   |--- feature_8 >  0.01\n",
      "|   |   |--- value: [164.67]\n",
      "|--- feature_2 >  0.01\n",
      "|   |--- feature_2 <= 0.07\n",
      "|   |   |--- value: [191.10]\n",
      "|   |--- feature_2 >  0.07\n",
      "|   |   |--- value: [271.08]\n",
      "\n"
     ]
    }
   ],
   "source": [
    "dtMax(n=2)"
   ]
  },
  {
   "cell_type": "code",
   "execution_count": 52,
   "id": "ed19fdef-decf-4e3d-94ed-758a763ede44",
   "metadata": {},
   "outputs": [
    {
     "data": {
      "text/plain": [
       "array([-3133.25869987, -4088.82361857, -3081.74252988, -3816.16475868,\n",
       "       -3297.02888509])"
      ]
     },
     "execution_count": 52,
     "metadata": {},
     "output_type": "execute_result"
    }
   ],
   "source": [
    "#CROSS VALIDATION TO FIND max_depth FOR RANDOM FORESTS\n",
    "model3 = sklearn.ensemble.RandomForestRegressor(max_depth=2)\n",
    "\n",
    "x_train, x_test, y_train, y_test = sklearn.model_selection.train_test_split(\n",
    "    x, y, test_size=0.2, random_state=42)\n",
    "\n",
    "loss = cross_val_score(model3,\n",
    "                       x_train,\n",
    "                       y_train, \n",
    "                       cv=5, \n",
    "                       scoring='neg_mean_squared_error')\n",
    "loss"
   ]
  },
  {
   "cell_type": "code",
   "execution_count": 53,
   "id": "50f5b7f3-d5d1-4a75-ad0e-a7bd8a01cc38",
   "metadata": {},
   "outputs": [
    {
     "data": {
      "text/plain": [
       "58.92554961704676"
      ]
     },
     "execution_count": 53,
     "metadata": {},
     "output_type": "execute_result"
    }
   ],
   "source": [
    "np.mean(np.sqrt(-loss))"
   ]
  },
  {
   "cell_type": "code",
   "execution_count": 54,
   "id": "b8fc8816-9b5f-494e-8fcd-d68b326790dc",
   "metadata": {},
   "outputs": [
    {
     "data": {
      "image/png": "[encoded data removed]",
      "text/plain": [
       "<Figure size 432x288 with 1 Axes>"
      ]
     },
     "metadata": {
      "needs_background": "light"
     },
     "output_type": "display_data"
    }
   ],
   "source": [
    "x_train, x_test, y_train, y_test = sklearn.model_selection.train_test_split(\n",
    "        x, y, test_size=0.2, random_state=42)\n",
    "\n",
    "max_range1 = range(1, 20)\n",
    "max_depth_vals1 = []\n",
    "for m in max_range1:\n",
    "    rf = sklearn.ensemble.RandomForestRegressor(max_depth=m)\n",
    "    loss = cross_val_score(rf,\n",
    "                           x_train,\n",
    "                           y_train, \n",
    "                           cv=5, \n",
    "                           scoring='neg_mean_squared_error')\n",
    "    max_depth_vals1.append(np.sqrt(-loss).mean())\n",
    "\n",
    "plt.scatter(max_range1, max_depth_vals1)\n",
    "plt.xlabel('Value of Max Depth for RF')\n",
    "plt.ylabel('Cross-Validated MSE')\n",
    "plt.show()"
   ]
  },
  {
   "cell_type": "code",
   "execution_count": 58,
   "id": "1d124450-e0b0-4108-80c9-7a1d704bb1d8",
   "metadata": {},
   "outputs": [
    {
     "name": "stdout",
     "output_type": "stream",
     "text": [
      "MSE_depth 4  =  2971.8117032766804\n",
      "|--- feature_8 <= 0.00\n",
      "|   |--- feature_3 <= 0.03\n",
      "|   |   |--- value: [101.66]\n",
      "|   |--- feature_3 >  0.03\n",
      "|   |   |--- value: [163.93]\n",
      "|--- feature_8 >  0.00\n",
      "|   |--- feature_2 <= 0.04\n",
      "|   |   |--- value: [176.63]\n",
      "|   |--- feature_2 >  0.04\n",
      "|   |   |--- value: [241.27]\n",
      "\n"
     ]
    }
   ],
   "source": [
    "def rfMax(n=1):\n",
    "    model3 = sklearn.ensemble.RandomForestRegressor(max_depth=2)\n",
    "\n",
    "    x_train, x_test, y_train, y_test = sklearn.model_selection.train_test_split(\n",
    "        x, y, test_size=0.2, random_state=42)\n",
    "    \n",
    "    model3.fit(x_train,\n",
    "          y_train)\n",
    "    y_pred3 = model3.predict(x_test)\n",
    "    \n",
    "    print('MSE_depth',n,' = ', mean_squared_error(y_test, y_pred3))\n",
    "    \n",
    "    #TREE VISUALIZATION FOR RANDOM FOREST\n",
    "    text_representation = sklearn.tree.export_text(model3.estimators_[0])\n",
    "    print(text_representation)\n",
    "\n",
    "rfMax(n=4)"
   ]
  },
  {
   "cell_type": "code",
   "execution_count": 59,
   "id": "46bf2ffd-29fc-4b39-a1eb-b627c32eafb0",
   "metadata": {},
   "outputs": [
    {
     "name": "stdout",
     "output_type": "stream",
     "text": [
      "MSE_knn =  3003.3901481279886\n",
      "MSE_depth 2  =  3866.038156768628\n",
      "|--- feature_2 <= 0.01\n",
      "|   |--- feature_8 <= 0.01\n",
      "|   |   |--- value: [100.56]\n",
      "|   |--- feature_8 >  0.01\n",
      "|   |   |--- value: [164.67]\n",
      "|--- feature_2 >  0.01\n",
      "|   |--- feature_2 <= 0.07\n",
      "|   |   |--- value: [191.10]\n",
      "|   |--- feature_2 >  0.07\n",
      "|   |   |--- value: [271.08]\n",
      "\n",
      "MSE_depth 4  =  2976.5681553099043\n",
      "|--- feature_2 <= 0.01\n",
      "|   |--- feature_7 <= 0.03\n",
      "|   |   |--- value: [98.48]\n",
      "|   |--- feature_7 >  0.03\n",
      "|   |   |--- value: [181.66]\n",
      "|--- feature_2 >  0.01\n",
      "|   |--- feature_8 <= 0.03\n",
      "|   |   |--- value: [183.44]\n",
      "|   |--- feature_8 >  0.03\n",
      "|   |   |--- value: [247.20]\n",
      "\n"
     ]
    }
   ],
   "source": [
    "#LINEAR REGRESSION MSE = 2900.1732878832318\n",
    "\n",
    "#KNN MSE\n",
    "knntest(n=17)\n",
    "\n",
    "#DECISION TREE MSE\n",
    "dtMax(n=2)\n",
    "\n",
    "#RANDOM FOREST MSE\n",
    "rfMax(n=4)\n",
    "\n",
    "#LINEAR REGRESSION PERFORMED BEST"
   ]
  },
  {
   "cell_type": "code",
   "execution_count": null,
   "id": "e5ffe490-5b52-4744-826c-cb5b7ef60b91",
   "metadata": {},
   "outputs": [],
   "source": []
  }
 ],
 "metadata": {
  "kernelspec": {
   "display_name": "Python 3 (ipykernel)",
   "language": "python",
   "name": "python3"
  },
  "language_info": {
   "codemirror_mode": {
    "name": "ipython",
    "version": 3
   },
   "file_extension": ".py",
   "mimetype": "text/x-python",
   "name": "python",
   "nbconvert_exporter": "python",
   "pygments_lexer": "ipython3",
   "version": "3.9.6"
  }
 },
 "nbformat": 4,
 "nbformat_minor": 5
}
